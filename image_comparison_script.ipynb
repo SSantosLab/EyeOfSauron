{
 "cells": [
  {
   "cell_type": "markdown",
   "metadata": {},
   "source": [
    "<img src=\"files/night_sky_eye_small.jpg\">\n",
    "# Image_comparison Script\n",
    "\n",
    "Jessica Metzger (UChicago) and Jim Annis (Fermilab) 2018\n",
    "Antonella Palmese and Jim Annis (Fermilab) 2019\n",
    "\n",
    "\n",
    "To run this notebook:\n",
    "  * you'll need to run \n",
    "       ** conda activate des18a\"\n",
    "  * really, just try sourcing setup.sh\n",
    "       \n",
    " *(to run a notebook remotely, see \n",
    " http://home.fnal.gov/~kadrlica/fnalstart.html\n",
    " \n",
    " ## How this should work\n",
    " \n",
    " * Given a search image:\n",
    " * Select from the 200mpc catalog the likely galaxies in the image as a list of ra,dec's\n",
    " * Select the galaxy from the bias subtracted search image, compare to BLISS single epoch images\n",
    "\n"
   ]
  },
  {
   "cell_type": "markdown",
   "metadata": {},
   "source": [
    "# Do the Eyeballing!\n",
    "\n",
    "This is the action cell!\n",
    "\n",
    "For a given image, get the \n",
    "image name, ra, dec\n",
    "\n",
    "Change the triplets,\n",
    "then run the cell, it will take time to do all of them"
   ]
  },
  {
   "cell_type": "code",
   "execution_count": 5,
   "metadata": {},
   "outputs": [],
   "source": [
    "import sauron\n",
    "\n",
    "# you do know the search image ra,dec, right? and filter? and name?\n",
    "image_ra, image_dec =91.841025,-35.34666\n",
    "image_name = \"856770\"; filter=\"r\"\n",
    "\n",
    "# get your 200mpc++ catalog into place\n",
    "gal_list = \"/data/des60.b/data/palmese/GW_host_catalog/S190814bv/200Mpc_BPortal_2sigma_ranked.csv\"\n",
    "# tell me what columns to use\n",
    "# ID dpDV RA DEC DIST Z ZERR CATTYPE\n",
    "id_col = 0\n",
    "ra_col = 2\n",
    "dec_col = 3\n",
    "\n",
    "# eyeball\n",
    "work_image(image_name, image_ra,image_dec, gal_list=gal_list,\n",
    "                id_col_num=id_col, ra_col_num=ra_col, dec_col_num=dec_col,\n",
    "                filter=filter, do_num=-1)"
   ]
  }
 ],
 "metadata": {
  "kernelspec": {
   "display_name": "Python 2",
   "language": "python",
   "name": "python2"
  },
  "language_info": {
   "codemirror_mode": {
    "name": "ipython",
    "version": 2
   },
   "file_extension": ".py",
   "mimetype": "text/x-python",
   "name": "python",
   "nbconvert_exporter": "python",
   "pygments_lexer": "ipython2",
   "version": "2.7.15"
  }
 },
 "nbformat": 4,
 "nbformat_minor": 2
}
