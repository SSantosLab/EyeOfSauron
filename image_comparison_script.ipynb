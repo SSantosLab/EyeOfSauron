{
 "cells": [
  {
   "cell_type": "markdown",
   "metadata": {},
   "source": [
    "<img src=\"files/night_sky_eye_small.jpg\">\n",
    "# Image_comparison Script\n",
    "\n",
    "Jessica Metzger (UChicago) and Jim Annis (Fermilab) 2018\n",
    "Antonella Palmese and Jim Annis (Fermilab) 2019\n",
    "\n",
    "\n",
    "To run this notebook:\n",
    "  * you'll need to run \n",
    "       ** conda activate des18a\"\n",
    "  * really, just try sourcing setup.sh\n",
    "       \n",
    " *(to run a notebook remotely, see \n",
    " http://home.fnal.gov/~kadrlica/fnalstart.html\n",
    " \n",
    " ## How this should work\n",
    " \n",
    " * Given a search image:\n",
    " * Select from the 200mpc catalog the likely galaxies in the image as a list of ra,dec's\n",
    " * Select the galaxy from the bias subtracted search image, compare to BLISS single epoch images\n",
    "\n"
   ]
  },
  {
   "cell_type": "markdown",
   "metadata": {},
   "source": [
    "# Do the Eyeballing!\n",
    "\n",
    "This is the action cell!\n",
    "\n",
    "For a given image, get the \n",
    "image name, ra, dec\n",
    "\n",
    "Change the triplets,\n",
    "then run the cell, it will take time to do all of them"
   ]
  },
  {
   "cell_type": "code",
   "execution_count": 29,
   "metadata": {},
   "outputs": [
    {
     "data": {
      "text/plain": [
       "<module 'sauron' from 'sauron.pyc'>"
      ]
     },
     "execution_count": 29,
     "metadata": {},
     "output_type": "execute_result"
    }
   ],
   "source": [
    "import sauron\n",
    "reload(sauron)"
   ]
  },
  {
   "cell_type": "code",
   "execution_count": 31,
   "metadata": {},
   "outputs": [
    {
     "name": "stdout",
     "output_type": "stream",
     "text": [
      "Opening file: /data/des51.b/data/DTS/src/20190510/DECam_00856770.fits.fz\n",
      "1 2 3 4 5 6 7 8 9 10 11 12 13 14 15 16 17 18 19 20 21 22 23 24 25 26 27 28 29 30 31 32 33 34 35 36 37 38 39 40 41 42 43 44 45 46 47 48 49 50 51 52 53 54 55 56 57 58 59 60 61 62 \n",
      " Did 0 galaxies!\n",
      "\n"
     ]
    }
   ],
   "source": [
    "\n",
    "# you do know the search image ra,dec, right? and filter? and name?\n",
    "image_ra, image_dec =91.841025,-35.34666\n",
    "image_name = \"856770\"; \n",
    "filter=\"r\"\n",
    "search_dir = \"/data/des51.b/data/DTS/src/20190510/\"\n",
    "\n",
    "# get your 200mpc++ catalog into place\n",
    "gal_cat = \"/data/des60.b/data/palmese/GW_host_catalog/S190814bv/200Mpc_BPortal_2sigma_ranked.csv\"\n",
    "# tell me what columns to use\n",
    "# ID dpDV RA DEC DIST Z ZERR CATTYPE\n",
    "id_col = 0\n",
    "ra_col = 2\n",
    "dec_col = 3\n",
    "\n",
    "# eyeball\n",
    "sauron.work_image(search_dir, image_name, image_ra,image_dec, filter, gal_cat,\n",
    "                  id_col_num=id_col, ra_col_num=ra_col, dec_col_num=dec_col, \n",
    "                  do_num=-1)"
   ]
  },
  {
   "cell_type": "code",
   "execution_count": null,
   "metadata": {},
   "outputs": [],
   "source": []
  }
 ],
 "metadata": {
  "kernelspec": {
   "display_name": "Python 2",
   "language": "python",
   "name": "python2"
  },
  "language_info": {
   "codemirror_mode": {
    "name": "ipython",
    "version": 2
   },
   "file_extension": ".py",
   "mimetype": "text/x-python",
   "name": "python",
   "nbconvert_exporter": "python",
   "pygments_lexer": "ipython2",
   "version": "2.7.15"
  }
 },
 "nbformat": 4,
 "nbformat_minor": 2
}
